{
 "cells": [
  {
   "cell_type": "code",
   "execution_count": null,
   "id": "bd7a1b27-2087-4b8b-8783-698a65129ca3",
   "metadata": {},
   "outputs": [],
   "source": [
    "import numpy as np\n",
    "import pandas as pd\n",
    "import seaborn as sns\n",
    "import matplotlib.pyplot as plt\n",
    "import scipy.stats\n",
    "from scipy.stats import mannwhitneyu\n",
    "from itertools import combinations\n",
    "from statannotations.Annotator import Annotator\n",
    "import matplotlib as mpl\n",
    "\n",
    "from tableone import TableOne, load_dataset\n",
    "\n",
    "sns.set_context('talk')\n",
    "sns.set_theme(style=\"white\")\n",
    "sns.set(font_scale=1.2)\n",
    "pd.options.display.max_rows = 300\n",
    "pd.options.display.max_columns = 100\n"
   ]
  },
  {
   "cell_type": "markdown",
   "id": "d965e2eb",
   "metadata": {},
   "source": [
    "# Load in data and simple renaming\n"
   ]
  },
  {
   "cell_type": "code",
   "execution_count": null,
   "id": "b8ba2d6c-07ed-4a49-ab9c-4325a2e06322",
   "metadata": {},
   "outputs": [],
   "source": [
    "data = pd.read_csv(\"dataset.csv.gz\", index_col=0)\n",
    "\n",
    "#the indeterminate cases were the few times no cell count sent; recode \n",
    "data.loc[data['Episode_etiology']=='Indeterminate','Episode_etiology'] = 'Micro-negative'\n",
    "#rename culture negative to micro-negative\n",
    "data.loc[data['Episode_etiology']=='Culture-negative','Episode_etiology'] = 'Micro-negative'\n",
    "#label NPC episodes \n",
    "data.loc[data.Episode_category=='Non-PNA-ctrl','Episode_etiology']= 'Non-Pneumonia Control'"
   ]
  },
  {
   "cell_type": "markdown",
   "id": "971ee52e",
   "metadata": {},
   "source": [
    "# Labeling different ANC cutoffs"
   ]
  },
  {
   "cell_type": "code",
   "execution_count": null,
   "id": "9ad2c93a-0a75-493e-ba71-481b266e992c",
   "metadata": {},
   "outputs": [],
   "source": [
    "#labeling each  day \n",
    "data['was_neutropenic_1500']=np.where(data.Neutrophils_x<1.5,True,False)\n",
    "data['was_neutropenic_1000']=np.where(data.Neutrophils_x<1.0,True,False)\n",
    "data['was_neutropenic_500']=np.where(data.Neutrophils_x<0.5,True,False)\n"
   ]
  },
  {
   "cell_type": "code",
   "execution_count": null,
   "id": "9b6254ac-dc10-4221-ad6f-8cf4fc310e38",
   "metadata": {},
   "outputs": [],
   "source": [
    "# summarize features over admission\n",
    "\n",
    "WBC_overadmission = data.groupby('patient').agg({\n",
    "    'Neutrophils_x':'median', \n",
    "    'WBC_count':'median', \n",
    "    'was_neutropenic_1500':'max',\n",
    "    'was_neutropenic_1000':'max',\n",
    "    'was_neutropenic_500':'max',\n",
    "    'bal_pct_neutro':'median'\n",
    "    }).reset_index().rename(\n",
    "    columns={\n",
    "        'Neutrophils_x':'Neutrophils_median_overadmission', \n",
    "        'WBC_count': 'WBC_count_median_overadmission',\n",
    "        'was_neutropenic_1500':'was_neutropenic_1500_overadmission',\n",
    "        'was_neutropenic_1000':'was_neutropenic_1000_overadmission',\n",
    "        'was_neutropenic_500':'was_neutropenic_500_overadmission',\n",
    "        'bal_pct_neutro':'bal_pct_neutro_median_overadmission'    \n",
    "        })\n",
    "data = pd.merge(data, WBC_overadmission, how='left', on='patient')\n"
   ]
  },
  {
   "cell_type": "markdown",
   "id": "6076a571-07a1-4c5b-82ab-f046147f64ff",
   "metadata": {},
   "source": [
    "## Creating immunocompetent, immunocompromised w/o neutro & neutropenic BY DAY"
   ]
  },
  {
   "cell_type": "code",
   "execution_count": null,
   "id": "a6165dd0",
   "metadata": {},
   "outputs": [],
   "source": [
    "def annotate_immunocomp_today(row):\n",
    "    if row.was_neutropenic_1500 == True:\n",
    "        return 'Neutropenic'\n",
    "    elif row.Imuunocompromised_flag == True and row.was_neutropenic_1500 == False:\n",
    "        return 'Immunocompromised without neutropenia'\n",
    "    elif row.Imuunocompromised_flag == False:\n",
    "        return 'Immunocompetent'\n",
    "    else:\n",
    "        return 'Other'\n",
    "    \n",
    "data['immunocomp_today'] = [annotate_immunocomp_today(row) for index,row in data.iterrows()]\n",
    "data.immunocomp_today.value_counts()"
   ]
  },
  {
   "cell_type": "code",
   "execution_count": null,
   "id": "6035352f",
   "metadata": {},
   "outputs": [],
   "source": [
    "data.Imuunocompromised_flag.value_counts()"
   ]
  },
  {
   "cell_type": "code",
   "execution_count": null,
   "id": "02775f04",
   "metadata": {},
   "outputs": [],
   "source": [
    "data.was_neutropenic_1500.value_counts()"
   ]
  },
  {
   "cell_type": "code",
   "execution_count": null,
   "id": "a495c8c7-8247-4d71-b720-405389f05cee",
   "metadata": {},
   "outputs": [],
   "source": [
    "# breaking out types of immunocompromise \n",
    "\n",
    "def create_additional_columns(df):\n",
    "    # Initialize new columns with False\n",
    "    df['solid_organ_transplant'] = False\n",
    "    df['stem_cell_transplant'] = False\n",
    "    df['acute_leukemia'] = False\n",
    "    df['chemotherapy'] = False\n",
    "    \n",
    "    # Check for 'Solid organ transplant' and 'Acute leukemia' in 'type_immunocomp' column\n",
    "    df['solid_organ_transplant'] = df['type_immunocomp'].str.contains('Solid organ transplant', case=False)\n",
    "    df['stem_cell_transplant'] = df['type_immunocomp'].str.contains('Stem cell transplant', case=False)\n",
    "    df['acute_leukemia'] = df['type_immunocomp'].str.contains('Acute leukemia', case=False)\n",
    "    df['chemotherapy'] = df['type_immunocomp'].str.contains('Myelosuppressive chemotherapy', case=False)\n",
    "\n",
    "    return df\n",
    "\n",
    "# Apply the function to the 'dem' DataFrame\n",
    "data = create_additional_columns(data)\n",
    "\n",
    "data[['solid_organ_transplant', 'stem_cell_transplant', 'acute_leukemia', 'chemotherapy']]=data[[\n",
    "    'solid_organ_transplant', 'stem_cell_transplant', 'acute_leukemia', 'chemotherapy']].fillna(False)"
   ]
  },
  {
   "cell_type": "markdown",
   "id": "8fa23fb3-a769-4b2c-9301-1e9ed18f812c",
   "metadata": {},
   "source": [
    "# Table One"
   ]
  },
  {
   "cell_type": "code",
   "execution_count": null,
   "id": "9d181c8d-3a64-4d0f-9039-a286b6b17282",
   "metadata": {},
   "outputs": [],
   "source": [
    "single = data.drop_duplicates(subset='patient')"
   ]
  },
  {
   "cell_type": "code",
   "execution_count": null,
   "id": "f1735ea6-8c38-4735-befa-9c0919bc6fc2",
   "metadata": {},
   "outputs": [],
   "source": [
    "mytable = TableOne(single, columns=['Age','Gender','Imuunocompromised_flag',\n",
    "                                    'solid_organ_transplant',\n",
    "       'stem_cell_transplant', 'acute_leukemia', 'chemotherapy',\n",
    "        'WBC_count_median_overadmission', 'Neutrophils_median_overadmission','bal_pct_neutro_median_overadmission', \n",
    "         'Cumulative_ICU_days','Binary_outcome'], \n",
    "                   \n",
    "        categorical=['Gender','Imuunocompromised_flag', 'solid_organ_transplant',\n",
    "       'stem_cell_transplant', 'acute_leukemia', 'chemotherapy','Binary_outcome'], \n",
    "                   \n",
    "        nonnormal=['Age','Cumulative_ICU_days','WBC_count_median_overadmission', \n",
    "                   'Neutrophils_median_overadmission','bal_pct_neutro_median_overadmission'],\n",
    "                #    groupby='new_immunocomp',pval=True,\n",
    "                  overall=False,\n",
    "        rename={\n",
    "            'Imuunocompromised_flag' : 'Immunocompromised',\n",
    "            'solid_organ_transplant' : 'Solid Organ Transplant',\n",
    "            'stem_cell_transplant' : 'Stem Cell Transplant',\n",
    "            'acute_leukemia' : 'Acute Leukemia',\n",
    "            'chemotherapy' : 'Chemotherapy',\n",
    "            'WBC_count_median_overadmission' : 'WBC Count',\n",
    "            'Neutrophils_median_overadmission' : 'Neutrophil Count',\n",
    "            'bal_pct_neutro_median_overadmission' : 'BAL % Neutrophils',\n",
    "            'Cumulative_ICU_days' : 'Cumulative ICU Days',\n",
    "            'Binary_outcome' : 'Unfavorable Outcome',\n",
    "            'was_neutropenic_1500_overadmission' : 'Neutropenic',\n",
    "               }\n",
    "                )\n",
    "mytable\n"
   ]
  },
  {
   "cell_type": "code",
   "execution_count": null,
   "id": "15fd6b79",
   "metadata": {},
   "outputs": [],
   "source": [
    "data.bal_type.value_counts()"
   ]
  },
  {
   "cell_type": "code",
   "execution_count": null,
   "id": "44c0100b",
   "metadata": {},
   "outputs": [],
   "source": [
    "data.Episode_etiology.value_counts()"
   ]
  },
  {
   "cell_type": "code",
   "execution_count": null,
   "id": "bcab996e",
   "metadata": {},
   "outputs": [],
   "source": [
    "data.Episode_etiology.describe()"
   ]
  },
  {
   "cell_type": "code",
   "execution_count": null,
   "id": "37d1ec6a",
   "metadata": {},
   "outputs": [],
   "source": [
    "single.was_neutropenic_1500_overadmission.value_counts()"
   ]
  },
  {
   "cell_type": "code",
   "execution_count": null,
   "id": "f9c1fbbb",
   "metadata": {},
   "outputs": [],
   "source": [
    "single.Imuunocompromised_flag.value_counts()"
   ]
  },
  {
   "cell_type": "code",
   "execution_count": null,
   "id": "14fe0a19",
   "metadata": {},
   "outputs": [],
   "source": [
    "def annotate_immunocomp_admission(row):\n",
    "    if row.was_neutropenic_1500_overadmission == True:\n",
    "        return 'Neutropenic during admission'\n",
    "    elif row.Imuunocompromised_flag == True and row.was_neutropenic_1500_overadmission == False:\n",
    "        return 'Immunocompromised without neutropenia during admission'\n",
    "    elif row.Imuunocompromised_flag == False:\n",
    "        return 'Immunocompetent'\n",
    "    else:\n",
    "        return 'Other'\n",
    "    \n",
    "data['immunocomp_admission'] = [annotate_immunocomp_admission(row) for index,row in data.iterrows()]\n",
    "data.drop_duplicates(subset='patient').immunocomp_admission.value_counts()"
   ]
  },
  {
   "cell_type": "code",
   "execution_count": null,
   "id": "17f1f1ec",
   "metadata": {},
   "outputs": [],
   "source": [
    "data[((data.Episode_etiology=='Bacterial') & (data.was_neutropenic_1500==True))]['bal_pct_neutro'].describe()"
   ]
  },
  {
   "cell_type": "code",
   "execution_count": null,
   "id": "f74880e9",
   "metadata": {},
   "outputs": [],
   "source": [
    "data[((data.Episode_etiology=='Bacterial') & (data.was_neutropenic_1500==True))]['bal_pct_neutro'].describe()"
   ]
  },
  {
   "cell_type": "markdown",
   "id": "ce69eeb6",
   "metadata": {},
   "source": [
    "# Plotting\n"
   ]
  },
  {
   "cell_type": "code",
   "execution_count": null,
   "id": "1b9ffdbe",
   "metadata": {},
   "outputs": [],
   "source": [
    "data['pathogen_bacteria'] = data['pathogen_bacteria'].map({True: 'Detected', False: 'Not Detected'})\n"
   ]
  },
  {
   "cell_type": "code",
   "execution_count": null,
   "id": "9f66ee92",
   "metadata": {},
   "outputs": [],
   "source": [
    "fig, ax = plt.subplots(figsize = (12, 6))\n",
    "\n",
    "#Colors\n",
    "custom_palette = [\"firebrick\", \"black\"]  # Example colors, you can customize as needed\n",
    "\n",
    "\n",
    "data = data\n",
    "x = 'bal_pct_neutro'\n",
    "y = 'Neutrophils_x'\n",
    "\n",
    "data2=data[[x,y]].dropna()\n",
    "                \n",
    "# calculate the correlation value\n",
    "corr, p = scipy.stats.spearmanr(data2[x], data2[y])\n",
    "\n",
    "# create the regplot\n",
    "sns.regplot(data=data2,x=x, y=y, scatter_kws={'s': 10})\n",
    "\n",
    "sns.scatterplot(data=data, x='bal_pct_neutro', y='Neutrophils_x', hue='pathogen_bacteria', palette=custom_palette)\n",
    "\n",
    "# add the correlation value to the plot\n",
    "plt.text(0.5, .95, f'Spearman Correlation: {corr:.2f}, p<0.001 \\n ', ha='center', va='center', transform=plt.gca().transAxes)\n",
    "\n",
    "\n",
    "plt.axhline(y = 1.5, )\n",
    "#Titles\n",
    "plt.title(\"BAL % Neutrophils & Peripheral Neutrophils\")\n",
    "plt.xlabel(\"BAL % Neutrophils\")\n",
    "plt.ylabel(\"Peripheral Neutrophils\")\n",
    "plt.legend(title='Bacterial Pathogen')\n",
    "sns.set_theme(style=\"white\")\n",
    "\n",
    "#Save image\n",
    "plt.savefig('BALpercent_periphPMNs.pdf')"
   ]
  },
  {
   "cell_type": "code",
   "execution_count": null,
   "id": "2dee7076",
   "metadata": {},
   "outputs": [],
   "source": [
    "data.loc[data.was_neutropenic_1500, 'bal_pct_neutro'].describe()"
   ]
  },
  {
   "cell_type": "code",
   "execution_count": null,
   "id": "6d483e3e",
   "metadata": {},
   "outputs": [],
   "source": [
    "data.loc[(data.was_neutropenic_1500) & (data.bal_pct_neutro<50)].shape"
   ]
  },
  {
   "cell_type": "code",
   "execution_count": null,
   "id": "82659b37",
   "metadata": {},
   "outputs": [],
   "source": [
    "fig, ax = plt.subplots(figsize = (4, 4))\n",
    "sns.stripplot(data=data[data.was_neutropenic_1500], y='bal_pct_neutro',)\n",
    "\n",
    "plt.axhline(y = 50, )"
   ]
  },
  {
   "cell_type": "code",
   "execution_count": null,
   "id": "b5206eaa",
   "metadata": {},
   "outputs": [],
   "source": [
    "states_order = ['Immunocompetent', 'Immunocompromised without neutropenia', 'Neutropenic']\n",
    "subcat_order = [\"Bacterial\", \"Viral\", \"Bacterial/viral\", \"Micro-negative\", \"Non-Pneumonia Control\"]\n",
    "\n",
    "subcat_palette = sns.color_palette(\"pastel\",n_colors=5) #placeholder since not used\n",
    "states_palette = sns.set_palette([\"silver\", \"orange\", \"firebrick\"])\n",
    "\n",
    "x= 'Episode_etiology'\n",
    "hue = 'immunocomp_today'\n",
    "\n",
    "hue_plot_params = {\n",
    "    'data': data,\n",
    "    'x': 'Episode_etiology',\n",
    "    'y': 'bal_pct_neutro',\n",
    "    \"order\": subcat_order,\n",
    "    \"hue\": \"immunocomp_today\",\n",
    "    \"hue_order\": states_order,\n",
    "    \"palette\": states_palette\n",
    "}\n",
    "\n",
    "pair_list = []\n",
    "for c in data[x].dropna().unique():\n",
    "    sub_combos = list(combinations(data[hue].dropna().unique(),2))\n",
    "    for combo in sub_combos:\n",
    "        pair_list.append([tuple([c, combo[0]]), tuple([c, combo[1]])])\n",
    "pair_list"
   ]
  },
  {
   "cell_type": "code",
   "execution_count": null,
   "id": "4bb42021-71d5-4ab1-afbd-8a559bdcdd0b",
   "metadata": {},
   "outputs": [],
   "source": [
    "\n",
    "fig, ax = plt.subplots(figsize = (12, 6))\n",
    "\n",
    "hue_plot_params = {\n",
    "    'data': data,\n",
    "    'x': 'Episode_etiology',\n",
    "    'y': 'bal_pct_neutro',\n",
    "    \"order\": subcat_order,\n",
    "    \"hue\": \"immunocomp_today\",\n",
    "    \"hue_order\": states_order,\n",
    "    \"palette\": states_palette\n",
    "}\n",
    "pairs = pair_list\n",
    "\n",
    "ax = sns.boxplot(ax=ax, **hue_plot_params)\n",
    "\n",
    "annotator = Annotator(ax, pairs, **hue_plot_params)\n",
    "annotator.configure(test=\"Mann-Whitney\", verbose=2,text_format='simple',show_test_name=False, hide_non_significant=True).apply_and_annotate()\n",
    "\n",
    "plt.legend(bbox_to_anchor=(.5, 1.15), loc='center', borderaxespad=0)\n",
    "\n",
    "\n",
    "plt.title(\"BAL percent neutrophils by episode etiology in immunocompetent, immunocompromised, and neutropenic patients\")\n",
    "plt.xlabel(\"Episode etiology\")\n",
    "plt.ylabel(\"BAL percent neutrophils\")\n",
    "# sns.set_theme(style=\"white\")\n",
    "plt.show()\n",
    "\n",
    "#Save image\n",
    "fig.savefig('Categories_PMMNs.pdf', bbox_inches='tight')"
   ]
  },
  {
   "cell_type": "code",
   "execution_count": null,
   "id": "3dfa96bc",
   "metadata": {},
   "outputs": [],
   "source": [
    "data.immunocomp_today.value_counts()"
   ]
  },
  {
   "cell_type": "code",
   "execution_count": null,
   "id": "3c57cf58-a823-4c71-b4c9-1a4d3c49c5cb",
   "metadata": {},
   "outputs": [],
   "source": [
    "data[((data.Episode_etiology=='Bacterial') & (data.immunocomp_today=='Neutropenic'))]['bal_pct_neutro'].describe()"
   ]
  },
  {
   "cell_type": "code",
   "execution_count": null,
   "id": "2b522191",
   "metadata": {},
   "outputs": [],
   "source": [
    "data[((data.Episode_etiology=='Bacterial') & (data.immunocomp_today=='Neutropenic'))][['patient', 'day_bucket_starts','bal_pct_neutro', 'Neutrophils_x']]"
   ]
  },
  {
   "cell_type": "code",
   "execution_count": null,
   "id": "db2f0b0d",
   "metadata": {},
   "outputs": [],
   "source": [
    "data[((data.Episode_etiology=='Bacterial') & (data.immunocomp_today=='Immunocompetent'))]['bal_pct_neutro'].describe()"
   ]
  },
  {
   "cell_type": "code",
   "execution_count": null,
   "id": "d73e6c65",
   "metadata": {},
   "outputs": [],
   "source": [
    "data[((data.Episode_etiology=='Bacterial') & (data.immunocomp_today=='Immunocompromised without neutropenia'))]['bal_pct_neutro'].describe()"
   ]
  },
  {
   "cell_type": "code",
   "execution_count": null,
   "id": "90f95125",
   "metadata": {},
   "outputs": [],
   "source": [
    "# Splitting the data into two groups \n",
    "group1 = data[((data.Episode_etiology=='Bacterial') & (data.immunocomp_today=='Immunocompromised without neutropenia'))]['bal_pct_neutro'].dropna()\n",
    "group2 = data[((data.Episode_etiology=='Bacterial') & (data.immunocomp_today=='Immunocompetent'))]['bal_pct_neutro'].dropna()\n",
    "\n",
    "# Performing the Mann-Whitney U test\n",
    "mannwhitney_result = mannwhitneyu(group1, group2)\n",
    "\n",
    "# Calculate median and IQR for each group\n",
    "median_group1 = group1.median()\n",
    "q1_group1, q3_group1 = group1.quantile(0.25), group1.quantile(0.75)\n",
    "median_group2 = group2.median()\n",
    "q1_group2, q3_group2 = group2.quantile(0.25), group2.quantile(0.75)\n",
    "\n",
    "# Print the results in a sentence\n",
    "result_sentence = (\n",
    "    \"The Mann-Whitney U test revealed a *** in BAL percent neutrophils between \\n\"\n",
    "    \"*** patients with *** pneumonia (median [q1, q3]: {:.2f} [{:.2f}, {:.2f}]) \\n\"\n",
    "    \"and *** patients with *** pneumonia (median [q1, q3]: {:.2f} [{:.2f}, {:.2f}]), \\n\"\n",
    "    \"U statistic = {:.2f}, p-value = {:.4f}.\"\n",
    ").format(median_group1, q1_group1, q3_group1, median_group2, q1_group2, q3_group2, mannwhitney_result.statistic, mannwhitney_result.pvalue)\n",
    "\n",
    "print(result_sentence)"
   ]
  },
  {
   "cell_type": "code",
   "execution_count": null,
   "id": "99b77487",
   "metadata": {},
   "outputs": [],
   "source": [
    "# Splitting the data into two groups \n",
    "group1 = data[((data.Episode_etiology=='Bacterial') & (data.immunocomp_today=='Neutropenic'))]['bal_pct_neutro'].dropna()\n",
    "group2 = data[((data.Episode_etiology=='Bacterial') & (data.immunocomp_today=='Immunocompetent'))]['bal_pct_neutro'].dropna()\n",
    "\n",
    "# Performing the Mann-Whitney U test\n",
    "mannwhitney_result = mannwhitneyu(group1, group2)\n",
    "\n",
    "# Calculate median and IQR for each group\n",
    "median_group1 = group1.median()\n",
    "q1_group1, q3_group1 = group1.quantile(0.25), group1.quantile(0.75)\n",
    "median_group2 = group2.median()\n",
    "q1_group2, q3_group2 = group2.quantile(0.25), group2.quantile(0.75)\n",
    "\n",
    "# Print the results in a sentence\n",
    "result_sentence = (\n",
    "    \"The Mann-Whitney U test revealed a *** in BAL percent neutrophils between \\n\"\n",
    "    \"*** patients with *** pneumonia (median [q1, q3]: {:.2f} [{:.2f}, {:.2f}]) \\n\"\n",
    "    \"and *** patients with *** pneumonia (median [q1, q3]: {:.2f} [{:.2f}, {:.2f}]), \\n\"\n",
    "    \"U statistic = {:.2f}, p-value = {:.4f}.\"\n",
    ").format(median_group1, q1_group1, q3_group1, median_group2, q1_group2, q3_group2, mannwhitney_result.statistic, mannwhitney_result.pvalue)\n",
    "\n",
    "print(result_sentence)"
   ]
  },
  {
   "cell_type": "code",
   "execution_count": null,
   "id": "a2ee3e03",
   "metadata": {},
   "outputs": [],
   "source": [
    "# Splitting the data into two groups \n",
    "group1 = data[((data.Episode_etiology=='Bacterial') & (data.immunocomp_today=='Neutropenic'))]['bal_pct_neutro'].dropna()\n",
    "group2 = data[((data.Episode_etiology=='Bacterial') & (data.immunocomp_today=='Immunocompromised without neutropenia'))]['bal_pct_neutro'].dropna()\n",
    "\n",
    "# Performing the Mann-Whitney U test\n",
    "mannwhitney_result = mannwhitneyu(group1, group2)\n",
    "\n",
    "# Calculate median and IQR for each group\n",
    "median_group1 = group1.median()\n",
    "q1_group1, q3_group1 = group1.quantile(0.25), group1.quantile(0.75)\n",
    "median_group2 = group2.median()\n",
    "q1_group2, q3_group2 = group2.quantile(0.25), group2.quantile(0.75)\n",
    "\n",
    "# Print the results in a sentence\n",
    "result_sentence = (\n",
    "    \"The Mann-Whitney U test revealed a *** in BAL percent neutrophils between \\n\"\n",
    "    \"*** patients with *** pneumonia (median [q1, q3]: {:.2f} [{:.2f}, {:.2f}]) \\n\"\n",
    "    \"and *** patients with *** pneumonia (median [q1, q3]: {:.2f} [{:.2f}, {:.2f}]), \\n\"\n",
    "    \"U statistic = {:.2f}, p-value = {:.4f}.\"\n",
    ").format(median_group1, q1_group1, q3_group1, median_group2, q1_group2, q3_group2, mannwhitney_result.statistic, mannwhitney_result.pvalue)\n",
    "\n",
    "print(result_sentence)"
   ]
  }
 ],
 "metadata": {
  "kernelspec": {
   "display_name": "Python 3 (ipykernel)",
   "language": "python",
   "name": "python3"
  },
  "language_info": {
   "codemirror_mode": {
    "name": "ipython",
    "version": 3
   },
   "file_extension": ".py",
   "mimetype": "text/x-python",
   "name": "python",
   "nbconvert_exporter": "python",
   "pygments_lexer": "ipython3",
   "version": "3.10.4"
  }
 },
 "nbformat": 4,
 "nbformat_minor": 5
}
